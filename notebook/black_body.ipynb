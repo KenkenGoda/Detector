{
 "cells": [
  {
   "cell_type": "code",
   "execution_count": 2,
   "metadata": {},
   "outputs": [],
   "source": [
    "import numpy as np\n",
    "import matplotlib.pyplot as plt"
   ]
  },
  {
   "cell_type": "code",
   "execution_count": 2,
   "metadata": {},
   "outputs": [],
   "source": [
    "#constant number\n",
    "k = 1.38*10**(-16)  #erg/K\n",
    "h = 6.63*10**(-27)  #erg*s\n",
    "c = 3.00*10**10     #cm/s"
   ]
  },
  {
   "cell_type": "code",
   "execution_count": 70,
   "metadata": {},
   "outputs": [],
   "source": [
    "#variable number\n",
    "T = 1000                    #temperature (K)\n",
    "t_e = 1                     #exposure time (s)\n",
    "D_s = 0.01                   #source diameter (cm)\n",
    "D_m = 10                    #main mirror diameter (cm)\n",
    "S_s = np.pi*(D_s/2)**2      #source area (cm^2)\n",
    "S_m = np.pi*(D_m/2)**2      #main mirror area (cm^2)\n",
    "d = 35                      #distance (cm)\n",
    "A = 0.3                     #transmittance (%(@8μm))\n",
    "lamb_s = 7.5                #start wavelength (μm)\n",
    "lamb_e = 10.5               #end wavelength (μm)\n",
    "lamb_c = (lamb_s+lamb_e)/2  #center wavelength (μm)\n",
    "R = 120                     #wavelength resolution (@λc)\n",
    "d_lamb = lamb_c/R           #wavelength width (μm)"
   ]
  },
  {
   "cell_type": "code",
   "execution_count": 71,
   "metadata": {},
   "outputs": [],
   "source": [
    "#wavelength\n",
    "lamb = []\n",
    "lamb_x = lamb_s+d_lamb/2\n",
    "while True:\n",
    "    lamb.append(lamb_x)\n",
    "    lamb_x += d_lamb\n",
    "    if lamb_x+d_lamb/2>lamb_e:\n",
    "        break\n",
    "lamb = np.array(lamb,float)"
   ]
  },
  {
   "cell_type": "code",
   "execution_count": 72,
   "metadata": {},
   "outputs": [],
   "source": [
    "#photon number\n",
    "I = (2*h*c**2)/((lamb*10**(-4))**5*(np.exp((h*c)/(lamb*10**(-4)*k*T))-1))*t_e*d_lamb*10**(-4)*S_s*S_m/d**2  #erg\n",
    "E = (h*c)/(lamb*10**(-4))       #erg/photon\n",
    "F = I/E                         #photon"
   ]
  },
  {
   "cell_type": "code",
   "execution_count": 73,
   "metadata": {},
   "outputs": [
    {
     "data": {
      "text/plain": [
       "864891717642.25085"
      ]
     },
     "execution_count": 73,
     "metadata": {},
     "output_type": "execute_result"
    }
   ],
   "source": [
    "F[20]   #@9μm"
   ]
  },
  {
   "cell_type": "code",
   "execution_count": 75,
   "metadata": {},
   "outputs": [
    {
     "data": {
      "image/png": "[encoded data removed]",
      "text/plain": [
       "<matplotlib.figure.Figure at 0x10a3df4a8>"
      ]
     },
     "metadata": {},
     "output_type": "display_data"
    }
   ],
   "source": [
    "plt.plot(lamb,F,'ro')\n",
    "plt.xlabel('Wavelength [μm]')\n",
    "plt.ylabel('Flux [photon]')\n",
    "plt.show()"
   ]
  },
  {
   "cell_type": "code",
   "execution_count": 64,
   "metadata": {},
   "outputs": [
    {
     "data": {
      "text/plain": [
       "2.1542936128250522e-08"
      ]
     },
     "execution_count": 64,
     "metadata": {},
     "output_type": "execute_result"
    }
   ],
   "source": [
    "R_OST = 6.957*10**10*0.1   #cm\n",
    "d_OST = 3.08567758*10**18  #cm\n",
    "D_OST = 930                #cm\n",
    "\n",
    "S_OST = np.pi*R_OST**2     #cm^2\n",
    "omega_OST = np.pi*(D_OST/2)**2/d_OST**2   #cm^2\n",
    "\n",
    "S_lab = S_s                #cm^2\n",
    "omega_lab = S_m/d**2       #cm^2\n",
    "\n",
    "(S_OST*omega_OST)/(S_lab*omega_lab)"
   ]
  },
  {
   "cell_type": "code",
   "execution_count": 3,
   "metadata": {},
   "outputs": [],
   "source": [
    "R_sun = 6.960*10**10\n",
    "R_earth = 6.378137*10**8\n",
    "R_star = 0.117*R_sun\n",
    "R_planet = 0.918*R_earth\n",
    "h_O3 = 4.0*10**6\n",
    "\n",
    "need = (2*np.pi*R_planet*h_O3)/(np.pi*R_star**2)"
   ]
  },
  {
   "cell_type": "code",
   "execution_count": 5,
   "metadata": {},
   "outputs": [
    {
     "data": {
      "text/plain": [
       "70.63766080527262"
      ]
     },
     "execution_count": 5,
     "metadata": {},
     "output_type": "execute_result"
    }
   ],
   "source": [
    "need*10**6"
   ]
  },
  {
   "cell_type": "code",
   "execution_count": 29,
   "metadata": {},
   "outputs": [],
   "source": [
    "a=np.array([[0]*5]*6,float)\n",
    "a=np.array([[i+j for i in range(5)] for j in range(6)])"
   ]
  },
  {
   "cell_type": "code",
   "execution_count": 31,
   "metadata": {},
   "outputs": [
    {
     "data": {
      "text/plain": [
       "(6, 5)"
      ]
     },
     "execution_count": 31,
     "metadata": {},
     "output_type": "execute_result"
    }
   ],
   "source": [
    "a.shape"
   ]
  },
  {
   "cell_type": "code",
   "execution_count": null,
   "metadata": {},
   "outputs": [],
   "source": []
  },
  {
   "cell_type": "code",
   "execution_count": null,
   "metadata": {},
   "outputs": [],
   "source": []
  }
 ],
 "metadata": {
  "kernelspec": {
   "display_name": "Python 3",
   "language": "python",
   "name": "python3"
  }
 },
 "nbformat": 4,
 "nbformat_minor": 2
}
