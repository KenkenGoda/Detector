{
 "cells": [
  {
   "cell_type": "code",
   "execution_count": 20,
   "metadata": {
    "code_folding": [
     0
    ]
   },
   "outputs": [],
   "source": [
    "# import modules\n",
    "import os\n",
    "import operator\n",
    "import numpy as np\n",
    "import matplotlib.pyplot as plt\n",
    "import pysynphot as S\n",
    "import warnings\n",
    "\n",
    "warnings.filterwarnings('ignore')"
   ]
  },
  {
   "cell_type": "code",
   "execution_count": 2,
   "metadata": {
    "code_folding": [
     0
    ]
   },
   "outputs": [],
   "source": [
    "class Star:\n",
    "    \n",
    "    def __init__(self, wav, F):\n",
    "        self.wav = wav\n",
    "        self.F = F\n",
    "    \n",
    "    def __repr__(self):\n",
    "        return f'Star({self.wav}, {self.F})'\n",
    "    \n",
    "    def __eq__(self, other):\n",
    "        return type(other)==Star and self.wav==other.wav and self.F==other.F"
   ]
  },
  {
   "cell_type": "code",
   "execution_count": 3,
   "metadata": {
    "code_folding": [
     0
    ]
   },
   "outputs": [],
   "source": [
    "class Planet:\n",
    "    \n",
    "    def __init__(self, wav, rad):\n",
    "        self.wav = wav\n",
    "        self.rad = rad\n",
    "    \n",
    "    def __repr__(self):\n",
    "        return f'Planet({self.wav}, {self.rad})'\n",
    "    \n",
    "    def __eq__(self, other):\n",
    "        return type(other)==Planet and self.wav==other.wav and self.rad==other.rad"
   ]
  },
  {
   "cell_type": "code",
   "execution_count": 4,
   "metadata": {
    "code_folding": [
     0
    ]
   },
   "outputs": [],
   "source": [
    "class Noise:\n",
    "    \n",
    "    def __init__(self, wav, pre):\n",
    "        self.wav = wav\n",
    "        self.pre = pre\n",
    "    \n",
    "    def __repr__(self):\n",
    "        return f'Noise({self.wav}, {self.pre})'\n",
    "    \n",
    "    def __eq__(self, other):\n",
    "        return type(other)==Noise and self.wav==other.wav and self.pre==other.pre"
   ]
  },
  {
   "cell_type": "code",
   "execution_count": 5,
   "metadata": {
    "code_folding": [
     0
    ]
   },
   "outputs": [],
   "source": [
    "# solar parameters\n",
    "Teff_s = 2500               # effective temperature [K]\n",
    "FeH_s = 0.0                 # metalicity [ln(Fe/H)]\n",
    "logg_s = np.log10(27400)    # surface gravity [ln(g)]\n",
    "Kmag = 3.28                 # K band magnitude"
   ]
  },
  {
   "cell_type": "code",
   "execution_count": 6,
   "metadata": {
    "code_folding": [
     0
    ]
   },
   "outputs": [],
   "source": [
    "# initialize model\n",
    "s_model = []  # star model\n",
    "p_model = []  # planet model\n",
    "precis = []   # noise model"
   ]
  },
  {
   "cell_type": "code",
   "execution_count": 31,
   "metadata": {},
   "outputs": [],
   "source": [
    "star = S.Icat('phoenix', Teff_s, FeH_s, logg_s)\n",
    "#star_norm = star.renorm(Kmag, 'vegamag', S.ObsBandpass('johnson,k'))"
   ]
  },
  {
   "cell_type": "code",
   "execution_count": 32,
   "metadata": {},
   "outputs": [],
   "source": [
    "star.convert('Micron')\n",
    "#star_norm.convert('flam')"
   ]
  },
  {
   "cell_type": "code",
   "execution_count": 10,
   "metadata": {},
   "outputs": [],
   "source": [
    "Npoints = len(star.wave)"
   ]
  },
  {
   "cell_type": "code",
   "execution_count": 18,
   "metadata": {},
   "outputs": [],
   "source": [
    "for i in range(0, Npoints):\n",
    "    if (star_norm.wave[i]<0.5):\n",
    "        start = i\n",
    "    if (star_norm.wave[i]<=28.5):\n",
    "        stop = i\n",
    "\n",
    "for i in range(start, stop):\n",
    "    wav = star_norm.wave[i]\n",
    "    F = star_norm.flux[i]*1.e8\n",
    "    s_model.append(Star(wav, F))"
   ]
  },
  {
   "cell_type": "code",
   "execution_count": 21,
   "metadata": {},
   "outputs": [],
   "source": [
    "ns_points = len(s_model)\n",
    "s_model.sort(key=operator.attrgetter('wav'))"
   ]
  },
  {
   "cell_type": "code",
   "execution_count": 34,
   "metadata": {},
   "outputs": [
    {
     "data": {
      "text/plain": [
       "(0, 5)"
      ]
     },
     "execution_count": 34,
     "metadata": {},
     "output_type": "execute_result"
    },
    {
     "data": {
      "image/png": "[encoded data removed]",
      "text/plain": [
       "<Figure size 432x288 with 1 Axes>"
      ]
     },
     "metadata": {},
     "output_type": "display_data"
    }
   ],
   "source": [
    "plt.plot(star.wave, star.flux)\n",
    "plt.xlim(0, 5)"
   ]
  },
  {
   "cell_type": "code",
   "execution_count": null,
   "metadata": {},
   "outputs": [],
   "source": []
  }
 ],
 "metadata": {
  "kernelspec": {
   "display_name": "Python 3",
   "language": "python",
   "name": "python3"
  },
  "language_info": {
   "codemirror_mode": {
    "name": "ipython",
    "version": 3
   },
   "file_extension": ".py",
   "mimetype": "text/x-python",
   "name": "python",
   "nbconvert_exporter": "python",
   "pygments_lexer": "ipython3",
   "version": "3.6.4"
  },
  "toc": {
   "base_numbering": 1,
   "nav_menu": {},
   "number_sections": true,
   "sideBar": true,
   "skip_h1_title": false,
   "title_cell": "Table of Contents",
   "title_sidebar": "Contents",
   "toc_cell": false,
   "toc_position": {},
   "toc_section_display": true,
   "toc_window_display": false
  }
 },
 "nbformat": 4,
 "nbformat_minor": 2
}
