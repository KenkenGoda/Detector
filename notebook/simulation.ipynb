{
 "cells": [
  {
   "cell_type": "code",
   "execution_count": 4,
   "metadata": {},
   "outputs": [],
   "source": [
    "import numpy as np\n",
    "from numpy import random as rd\n",
    "import matplotlib.pylab as plt\n",
    "import pyprind"
   ]
  },
  {
   "cell_type": "code",
   "execution_count": 101,
   "metadata": {
    "code_folding": [
     0
    ]
   },
   "outputs": [],
   "source": [
    "############### changable parameter ###############\n",
    "n = 50                                 #repeat times\n",
    "t_exp = 60                              #exposure time(sec)\n",
    "times = 30                              #number of transmissions\n",
    "max_amp = 100                           #amplitude at lowest frequency\n",
    "pattern = 'primary'                     #transit pattern ('primary' or 'secondary')"
   ]
  },
  {
   "cell_type": "code",
   "execution_count": 102,
   "metadata": {
    "code_folding": [
     0
    ]
   },
   "outputs": [],
   "source": [
    "############### shortcut name ###############\n",
    "fname = '/Users/shohei/Desktop/Shohei/Fresnel/Detector/Paper/Data'"
   ]
  },
  {
   "cell_type": "code",
   "execution_count": 103,
   "metadata": {
    "code_folding": [
     0
    ]
   },
   "outputs": [],
   "source": [
    "############### constant parameter ###############\n",
    "h = 6.626070040*10**(-27)                               # Plank constant(erg*s)\n",
    "c = 2.99792458*10**10                                   # speed of light(cm/s)\n",
    "k = 1.38064852*10**(-16)                                # Boltzmann constant(erg/K)\n",
    "T_star = np.load('{}/temperature.npy'.format(fname))    # star temperature(K)\n",
    "T_planet = 288.2                                        # planet temperature(K)\n",
    "R_Sun = 6.960*10**10                                    # Solar radius(cm)\n",
    "R_Earth = 6.378137*10**8                                # Earth radius(cm)\n",
    "R = np.load('{}/radius.npy'.format(fname))              # star radius(R_Sun)\n",
    "R_star = R*R_Sun                                        # star radius(cm)\n",
    "R_planet = R_Earth                                      # planet radius(cm)\n",
    "p = R_planet/R_star                                     # radius ratio\n",
    "a = np.load('{}/semi.npy'.format(fname))                # semi major axis(cm)\n",
    "P = np.load('{}/period.npy'.format(fname))              # period(sec)\n",
    "P_tra = P*R_star/np.pi/a                                # transit period(sec)\n",
    "t_one = (P_tra*3/t_exp).astype(np.int64)                # the number of plots in one transit observation\n",
    "t_total = t_one*times                                   # total times(2min)\n",
    "t0 = [np.linspace(1, t_one[TT], t_one[TT])\n",
    "      for TT in range(len(T_star))]                     # time for one transmission(min)\n",
    "t = [np.linspace(1, t_total[TT], t_total[TT])\n",
    "     for TT in range(len(T_star))]                      # time for total(min)\n",
    "lamb = np.load('{}/lamb.npy'.format(fname))             # wavelength(µm)\n",
    "R1 = 100                                                # resolution of detector1(5~10μm)\n",
    "R2 = 100                                                # resolution of detector2(10~20μm)\n",
    "dl1 = (5+10)/2/R1                                       # wavelength band(6~11µm)\n",
    "dl2 = (10+20)/2/R2                                      # wavelength band(11~18µm)\n",
    "sci_pix_1 = 200*int(594*dl1/(10-5))                     # the number of science pixels by wavelength on detector1\n",
    "sci_pix_2 = 200*int(594*dl2/(20-10))                    # the number of science pixels by wavelength on detector2\n",
    "back_pix_1 = sci_pix_1                                  # the number of background pixels by wavelength on detector1\n",
    "back_pix_2 = sci_pix_2                                  # the number of background pixels by wavelength on detector2\n",
    "ref_pix = 1024*1024-200*594*2                           # the number of reference pixels on detector1,2\n",
    "dark_value = 0.2*t_exp                                  # dark current(electron)\n",
    "offset_value = 14*np.sqrt(8*3/t_exp)                    # offset value(electron)\n",
    "n_gate = 4                                              # the number of gates\n",
    "zodi = np.load('{}/zodi.npy'.format(fname))             # zodiacal light by wavelength(electron)\n",
    "#zodi = np.array([0]*len(lamb))\n",
    "#dark_value = 0\n",
    "#offset_value = 0"
   ]
  },
  {
   "cell_type": "code",
   "execution_count": 104,
   "metadata": {
    "code_folding": [
     0
    ]
   },
   "outputs": [],
   "source": [
    "############### make the gain fluctuation ###############\n",
    "def gain_fluctuation(TT):\n",
    "    period = np.linspace(60*2, t_one[TT]*60*4, 10000)\n",
    "    frequency = 1/period\n",
    "    for tt in range(times):\n",
    "        fluctuation = np.sum([Fluctuation(f, t0[TT]*60) for f in frequency], axis=0)*max_amp*10**(-6)*np.sqrt(frequency[-1])\n",
    "        gain_one = (0.9+rd.random()/10)*(1+fluctuation)\n",
    "        if tt==0:\n",
    "            gain = gain_one\n",
    "        else:\n",
    "            gain = np.hstack((gain, gain_one))\n",
    "    return gain\n",
    "\n",
    "def Fluctuation(f, t):\n",
    "    return np.sin(2*np.pi*(f*t+rd.random()))/np.sqrt(f)"
   ]
  },
  {
   "cell_type": "code",
   "execution_count": 105,
   "metadata": {
    "code_folding": [
     0
    ]
   },
   "outputs": [],
   "source": [
    "############### make the science curves ###############\n",
    "def science(TT, ll, gain, n_pix):\n",
    "    tra = tra_one[ll]\n",
    "    for tt in range(times-1):\n",
    "        tra = np.hstack((tra, tra_one[ll]))\n",
    "    x_star = (h*c)/(lamb[ll]*10**(-4)*k*T_star[TT])\n",
    "    x_zodi = (h*c)/(lamb[ll]*10**(-4)*k*275)\n",
    "    bose_star = abs(np.exp(x_star)/(np.exp(x_star)-1))\n",
    "    bose_zodi = abs(np.exp(x_zodi)/(np.exp(x_zodi)-1))\n",
    "    D_sci_ijk = np.array([rd.normal((tra[kk]+zodi[ll])/n_pix+dark_value,\n",
    "                                   np.sqrt(((bose_star*tra[kk]+bose_zodi*zodi[ll])/n_pix+dark_value+offset_value)/(n_pix/n_gate)))\n",
    "                          for kk in range(t_total[TT])], float)*gain\n",
    "#    if ll==66:\n",
    "#        S = D_sci_ijk[0:t_one[TT]]\n",
    "#        tra_top = [S[kk] for kk in range(t_one[TT]) if z[kk]>1+p[TT]]\n",
    "#        sig_top = np.std(tra_top)/np.sqrt(len(tra_top))\n",
    "#        tra_bottom = [S[kk] for kk in range(t_one[TT]) if z[kk]<1-p[TT]]\n",
    "#        sig_bottom = np.std(tra_bottom)/np.sqrt(len(tra_bottom))\n",
    "#        sig = np.sqrt(sig_top**2+sig_bottom**2)\n",
    "#        NS = sig/S.mean()*10**6/2/np.sqrt(30)\n",
    "        #print('1/SN=', NS)\n",
    "    return D_sci_ijk"
   ]
  },
  {
   "cell_type": "code",
   "execution_count": 106,
   "metadata": {
    "code_folding": [
     0
    ]
   },
   "outputs": [],
   "source": [
    "############### make the background curves ###############\n",
    "def background(TT, ll, gain, n_pix):\n",
    "    x_zodi = (h*c)/(lamb[ll]*10**(-4)*k*275)\n",
    "    bose_zodi = abs(np.exp(x_zodi)/(np.exp(x_zodi)-1))\n",
    "    D_back_ijk = rd.normal(zodi[ll]/n_pix+dark_value,\n",
    "                           np.sqrt(((bose_zodi*zodi[ll])/n_pix+dark_value+offset_value)/(n_pix/n_gate)), t_total[TT])*gain\n",
    "    return D_back_ijk"
   ]
  },
  {
   "cell_type": "code",
   "execution_count": 107,
   "metadata": {
    "code_folding": [
     0
    ]
   },
   "outputs": [],
   "source": [
    "############### make the reference curves ###############\n",
    "def reference(TT, gain, n_pix):\n",
    "    D_ref_ijk = rd.normal(dark_value, np.sqrt((dark_value+offset_value)/(n_pix/n_gate)), t_total[TT])*gain\n",
    "    return D_ref_ijk"
   ]
  },
  {
   "cell_type": "code",
   "execution_count": 108,
   "metadata": {
    "code_folding": [
     0
    ]
   },
   "outputs": [],
   "source": [
    "############### each average curve ###############\n",
    "def unify(nn, TT):\n",
    "    D_sci_ave_k = np.array([[[0]*t_total[TT]]*len(lamb)]*n_gate, float)\n",
    "    D_back_ave_k = np.array([[[0]*t_total[TT]]*len(lamb)]*n_gate, float)\n",
    "    D_ref_ave_k = np.array([[[0]*t_total[TT]]*n_gate]*2, float)\n",
    "    for jj in range(n_gate):\n",
    "        #gain = 1.0\n",
    "        gain_1 = gain_fluctuation(TT)\n",
    "        gain_2 = gain_fluctuation(TT)\n",
    "        for ll in range(len(lamb)):\n",
    "            if lamb[ll]<10:\n",
    "                sci_pix = sci_pix_1\n",
    "                back_pix = back_pix_1\n",
    "                gain = gain_1\n",
    "            else:\n",
    "                sci_pix = sci_pix_2\n",
    "                back_pix = back_pix_2\n",
    "                gain = gain_2\n",
    "            D_sci_ave_k[jj, ll] = science(TT, ll, gain, sci_pix)\n",
    "            D_back_ave_k[jj, ll] = background(TT, ll, gain, back_pix)\n",
    "        #D_ref_ave_k[0, jj] = reference(TT, gain, ref_pix)\n",
    "        #D_ref_ave_k[1, jj] = reference(TT, gain, ref_pix)\n",
    "        D_ref_ave_k[0, jj] = reference(TT, gain_1, ref_pix)\n",
    "        D_ref_ave_k[1, jj] = reference(TT, gain_2, ref_pix)\n",
    "    D_sci_ave = np.mean(D_sci_ave_k, axis=0)\n",
    "    D_back_ave = np.mean(D_back_ave_k, axis=0)\n",
    "    D_ref_ave = np.mean(D_ref_ave_k, axis=1)\n",
    "    return D_sci_ave, D_back_ave, D_ref_ave"
   ]
  },
  {
   "cell_type": "code",
   "execution_count": 109,
   "metadata": {
    "code_folding": [
     0
    ]
   },
   "outputs": [],
   "source": [
    "############### calibrate the gain fluctuation ###############\n",
    "def gain_calibration(nn, TT):\n",
    "    D_sci_ave, D_back_ave, D_ref_ave = unify(nn, TT)\n",
    "    D_sci = np.array([[0]*t_total[TT]]*len(lamb), float)\n",
    "    D_sub = np.array([[0]*t_total[TT]]*len(lamb), float)\n",
    "    for ll in range(len(lamb)):\n",
    "        if lamb[ll]<10:\n",
    "            D_ref = D_ref_ave[0]\n",
    "        else:\n",
    "            D_ref = D_ref_ave[1]\n",
    "        for tt in range(times):\n",
    "            sci_mean = 0\n",
    "            back_mean = 0\n",
    "            ref_mean = 0\n",
    "            for kk in range(tt*t_one[TT], (tt+1)*t_one[TT]):\n",
    "                sci_mean += D_sci_ave[ll, kk]\n",
    "                back_mean += D_back_ave[ll, kk]\n",
    "                ref_mean += D_ref[kk]\n",
    "            sci_mean /= t_one[TT]\n",
    "            back_mean /= t_one[TT]\n",
    "            ref_mean /= t_one[TT]\n",
    "            for kk in range(tt*t_one[TT], (tt+1)*t_one[TT]):\n",
    "                D_sci[ll, kk] = D_sci_ave[ll, kk]-back_mean\n",
    "                D_sub[ll, kk] = D_sci_ave[ll, kk]-(D_ref[kk]-ref_mean)*sci_mean/ref_mean-back_mean\n",
    "    return D_sci, D_sub"
   ]
  },
  {
   "cell_type": "code",
   "execution_count": 110,
   "metadata": {
    "code_folding": [
     0
    ]
   },
   "outputs": [],
   "source": [
    "############### evaluate this simulation ###############\n",
    "def evaluation(nn, TT):\n",
    "    global tra_one, z\n",
    "    tra_one = np.load('{}/{}_{}.npy'.format(fname, pattern, int(T_star[TT])))\n",
    "    z = np.load('{}/parameter_{}.npy'.format(fname, int(T_star[TT])))\n",
    "    D_sci, D_sub = gain_calibration(nn, TT)\n",
    "    for ll in range(len(lamb)):\n",
    "        D_sci_bin = np.mean([[D_sci[ll, kk+tt*t_one[TT]] for kk in range(t_one[TT])] for tt in range(times)], axis=0)\n",
    "        D_sci_bin_norm = D_sci_bin/np.mean([D_sci_bin[kk] for kk in range(t_one[TT]) if z[kk]>1+p[TT]], axis=0)\n",
    "        D_sub_bin = np.mean([[D_sub[ll, kk+tt*t_one[TT]] for kk in range(t_one[TT])] for tt in range(times)], axis=0)\n",
    "        D_sub_bin_norm = D_sub_bin/np.mean([D_sub_bin[kk] for kk in range(t_one[TT]) if z[kk]>1+p[TT]], axis=0)\n",
    "        D_mod = tra_one[ll]\n",
    "        D_sci_flat = average(TT, D_sci[ll])\n",
    "        D_sub_flat = average(TT, D_sub[ll])\n",
    "        D_mod_norm = D_mod/D_mod[10]\n",
    "        D_sci_flat_norm = D_sci_flat/D_sci_flat[10]\n",
    "        D_sub_flat_norm = D_sub_flat/D_sub_flat[10]\n",
    "        sci_eva[nn, ll] = (D_mod_norm[int(t_one[TT]/2)]-D_sci_flat_norm[int(t_one[TT]/2)])*10**6\n",
    "        sub_eva[nn, ll] = (D_mod_norm[int(t_one[TT]/2)]-D_sub_flat_norm[int(t_one[TT]/2)])*10**6\n",
    "        sigma_top_sci = [D_sci_bin_norm[kk] for kk in range(t_one[TT]) if z[kk]>1+p[TT]]\n",
    "        sigma_bottom_sci = [D_sci_bin_norm[kk] for kk in range(t_one[TT]) if z[kk]<1-p[TT]]\n",
    "        sigma_top_sub = [D_sub_bin_norm[kk] for kk in range(t_one[TT]) if z[kk]>1+p[TT]]\n",
    "        sigma_bottom_sub = [D_sub_bin_norm[kk] for kk in range(t_one[TT]) if z[kk]<1-p[TT]]\n",
    "        sci_sig[nn, ll] = np.sqrt(np.std(sigma_top_sci)**2/len(sigma_top_sci)+np.std(sigma_bottom_sci)**2/len(sigma_bottom_sci))*10**6\n",
    "        sub_sig[nn, ll] = np.sqrt(np.std(sigma_top_sub)**2/len(sigma_top_sub)+np.std(sigma_bottom_sub)**2/len(sigma_bottom_sub))*10**6\n",
    "#        if nn==0 and ll==66:\n",
    "#            plt.plot(D_sci_bin_norm, 'ro', c='r', markersize='3')\n",
    "#            plt.plot(D_mod_norm, c='g')\n",
    "#            plt.show()\n",
    "#            tra_top = [D_sci_bin_norm[kk] for kk in range(t_one[TT]) if z[kk]>1+p[TT]]\n",
    "            #tra_top = [D_sci[ll, kk] for kk in range(t_one[TT]) if z[kk]>1+p[TT]]\n",
    "            #tra_top = [D_sci[ll, kk+tt*t_one[TT]] for tt in range(times) for kk in range(t_one[TT]) if z[kk]>1+p[TT]]\n",
    "#            sig_top = np.std(tra_top)/np.sqrt(len(tra_top))\n",
    "#            tra_bottom = [D_sci_bin_norm[kk] for kk in range(t_one[TT]) if z[kk]<1-p[TT]]\n",
    "            #tra_bottom = [D_sci[ll, kk] for kk in range(t_one[TT]) if z[kk]<1-p[TT]]\n",
    "            #tra_bottom = [D_sci[ll, kk+tt*t_one[TT]] for tt in range(times) for kk in range(t_one[TT]) if z[kk]<1-p[TT]]\n",
    "#            sig_bottom = np.std(tra_bottom)/np.sqrt(len(tra_bottom))\n",
    "#            sig = np.sqrt(sig_top**2+sig_bottom**2)\n",
    "#            NS = sig/D_sci_bin_norm.mean()*10**6\n",
    "            #print('1/SN=', NS)\n",
    "    pbar.update()"
   ]
  },
  {
   "cell_type": "code",
   "execution_count": 111,
   "metadata": {
    "code_folding": [
     0
    ]
   },
   "outputs": [],
   "source": [
    "############### option ###############\n",
    "def average(TT, X):\n",
    "    if len(X)==t_one[TT]:\n",
    "        average = X\n",
    "    else:\n",
    "        average = np.mean([[X[kk+tt*t_one[TT]] for kk in range(t_one[TT])] for tt in range(times)], axis=0)\n",
    "    top = sum([average[kk] for kk in range(t_one[TT]) if z[kk]>1+p[TT]])\n",
    "    n_top = sum([1 for kk in range(t_one[TT]) if z[kk]>1+p[TT]])\n",
    "    bottom = sum([average[kk] for kk in range(t_one[TT]) if z[kk]<1-p[TT]])\n",
    "    n_bottom = sum([1 for kk in range(t_one[TT]) if z[kk]<1-p[TT]])\n",
    "    for kk in range(t_one[TT]):\n",
    "        if z[kk]>1+p[TT]:\n",
    "            average[kk] = top/n_top\n",
    "        elif z[kk]<1-p[TT]:\n",
    "            average[kk] = bottom/n_bottom\n",
    "    return average"
   ]
  },
  {
   "cell_type": "code",
   "execution_count": 112,
   "metadata": {
    "scrolled": true
   },
   "outputs": [
    {
     "name": "stderr",
     "output_type": "stream",
     "text": [
      "0% [##############################] 100% | ETA: 00:00:00"
     ]
    },
    {
     "name": "stdout",
     "output_type": "stream",
     "text": [
      "Success\n"
     ]
    },
    {
     "name": "stderr",
     "output_type": "stream",
     "text": [
      "\n",
      "Total time elapsed: 03:51:15\n"
     ]
    }
   ],
   "source": [
    "pbar = pyprind.ProgBar(n)\n",
    "sci_eva = np.array([[0]*len(lamb)]*n, float)\n",
    "sub_eva = np.array([[0]*len(lamb)]*n, float)\n",
    "sci_sig = np.array([[0]*len(lamb)]*n, float)\n",
    "sub_sig = np.array([[0]*len(lamb)]*n, float)\n",
    "[evaluation(nn, 3) for nn in range(n)]\n",
    "print('Success')"
   ]
  },
  {
   "cell_type": "code",
   "execution_count": 113,
   "metadata": {},
   "outputs": [
    {
     "name": "stdout",
     "output_type": "stream",
     "text": [
      "sci_mean: 0.9624757997106493\n",
      " sci_std: 31.414157842418362\n",
      "sub_mean: -0.8572143797458409\n",
      " sub_std: 6.3329364328634155\n"
     ]
    }
   ],
   "source": [
    "print('sci_mean:', sci_eva[:, 66].mean())\n",
    "print(' sci_std:', sci_eva[:, 66].std())\n",
    "print('sub_mean:', sub_eva[:, 66].mean())\n",
    "print(' sub_std:', sub_eva[:, 66].std())"
   ]
  },
  {
   "cell_type": "code",
   "execution_count": 13,
   "metadata": {},
   "outputs": [
    {
     "data": {
      "text/plain": [
       "1.6"
      ]
     },
     "execution_count": 13,
     "metadata": {},
     "output_type": "execute_result"
    },
    {
     "data": {
      "text/plain": [
       "1.6"
      ]
     },
     "execution_count": 13,
     "metadata": {},
     "output_type": "execute_result"
    }
   ],
   "source": [
    "bose = 2.2831700551572647     # bose factor at 10µm\n",
    "40/25"
   ]
  },
  {
   "cell_type": "code",
   "execution_count": 277,
   "metadata": {},
   "outputs": [
    {
     "data": {
      "text/plain": [
       "36.662066869767756"
      ]
     },
     "execution_count": 277,
     "metadata": {},
     "output_type": "execute_result"
    }
   ],
   "source": [
    "S_mean = 1700000\n",
    "S = rd.normal(S_mean, np.sqrt(S_mean*bose), 1000)\n",
    "N = S.std()/np.sqrt(1000)\n",
    "N/S.mean()*10**6"
   ]
  },
  {
   "cell_type": "code",
   "execution_count": 59,
   "metadata": {},
   "outputs": [],
   "source": [
    "t1_100  = 15.2364729884153      # times=1, n=100\n",
    "t2_100  = 10.964809101511907    # times=2, n=100\n",
    "t10_100 = 4.007039661850969     # times=10, n=100\n",
    "t20_100 = 3.205685848661847     # times=20, n=100\n",
    "t30_30  = 3.214860354063453     # times=30, n=30\n",
    "t30_50  = 2.8986181423204576    # times=30, n=50\n",
    "t30_100 = 2.663247199720826     # times=30, n=100"
   ]
  },
  {
   "cell_type": "code",
   "execution_count": 100,
   "metadata": {},
   "outputs": [],
   "source": [
    "v30_100 = 6.322063587329086    # times=30, max_amp=100\n",
    "v30_50 = 6.666680328914093      # times=30, max_amp=50"
   ]
  },
  {
   "cell_type": "code",
   "execution_count": 53,
   "metadata": {
    "scrolled": true
   },
   "outputs": [
    {
     "data": {
      "text/plain": [
       "1.448835110561374"
      ]
     },
     "execution_count": 53,
     "metadata": {},
     "output_type": "execute_result"
    }
   ],
   "source": [
    "(t20_100/t30_100)**2"
   ]
  },
  {
   "cell_type": "code",
   "execution_count": 43,
   "metadata": {},
   "outputs": [],
   "source": [
    "def binning(data, R, n):\n",
    "    i = int(100/R)\n",
    "    new_data = np.array([[0]*(int(len(lamb)/i)+1)]*n, float)\n",
    "    for ll in range(int(len(lamb)/i)+1):\n",
    "        m = 0\n",
    "        for jj in range(i):\n",
    "            if len(lamb)<=ll*i+jj:\n",
    "                break\n",
    "            new_data[:, ll] += data[:, ll*i+jj]\n",
    "            m += 1\n",
    "        new_data[:, ll] /= m\n",
    "    return new_data"
   ]
  },
  {
   "cell_type": "code",
   "execution_count": 60,
   "metadata": {},
   "outputs": [],
   "source": [
    "sci_eva_20 = binning(sci_eva, 20, 50)"
   ]
  },
  {
   "cell_type": "code",
   "execution_count": 62,
   "metadata": {},
   "outputs": [
    {
     "name": "stdout",
     "output_type": "stream",
     "text": [
      "0.8182169613085248\n",
      "0.3982366840929693\n",
      "2.0545996739906314\n"
     ]
    }
   ],
   "source": [
    "print(sci_eva[:, 0].std())\n",
    "print(sci_eva_20[:, 0].std())\n",
    "print(sci_eva[:, 0].std()/sci_eva_20[:, 0].std())"
   ]
  },
  {
   "cell_type": "code",
   "execution_count": null,
   "metadata": {},
   "outputs": [],
   "source": []
  }
 ],
 "metadata": {
  "kernelspec": {
   "display_name": "Python 3",
   "language": "python",
   "name": "python3"
  },
  "language_info": {
   "codemirror_mode": {
    "name": "ipython",
    "version": 3
   },
   "file_extension": ".py",
   "mimetype": "text/x-python",
   "name": "python",
   "nbconvert_exporter": "python",
   "pygments_lexer": "ipython3",
   "version": "3.6.4"
  },
  "toc": {
   "base_numbering": 1,
   "nav_menu": {},
   "number_sections": true,
   "sideBar": true,
   "skip_h1_title": false,
   "title_cell": "Table of Contents",
   "title_sidebar": "Contents",
   "toc_cell": false,
   "toc_position": {},
   "toc_section_display": true,
   "toc_window_display": false
  }
 },
 "nbformat": 4,
 "nbformat_minor": 2
}
