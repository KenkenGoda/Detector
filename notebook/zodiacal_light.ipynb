{
 "cells": [
  {
   "cell_type": "code",
   "execution_count": 2,
   "metadata": {},
   "outputs": [],
   "source": [
    "import numpy as np\n",
    "import matplotlib.pyplot as plt"
   ]
  },
  {
   "cell_type": "code",
   "execution_count": 73,
   "metadata": {},
   "outputs": [],
   "source": [
    "directory = '/Users/shohei/Desktop/Shohei/Fresnel/Detector/Paper/Discussion/Data'\n",
    "zodi = np.load(f'{directory}/zodi_0.npy')  # zodiacal light [photon]\n",
    "lamb = np.load(f'{directory}/lamb.npy')  # wavelength [µm]\n",
    "dl = np.load(f'{directory}/dl.npy')      # wavelength band [µm]\n",
    "h = 6.626070040E-27                      # plank constance [erg/sec]\n",
    "c = 2.99792458E+10                       # light speed [cm/sec]\n",
    "ac = 1.5                                 # field of view [arcsec]\n",
    "D = 9.24                                 # diameter of primary mirror [m]\n",
    "A = 0.3                                  # transmittance\n",
    "t_exp = 60                               # exposure time [sec]\n",
    "\n",
    "l_9 = np.where(np.abs(lamb-9)==np.abs(lamb-9).min())[0][0]  # number of 9µm\n",
    "l_10 = np.where(np.abs(lamb-10)==np.abs(lamb-10).min())[0][0]  # number of 10µm\n",
    "l_14 = np.where(np.abs(lamb-14)==np.abs(lamb-14).min())[0][0]  # number of 14µm\n",
    "l_20 = np.where(np.abs(lamb-20)==np.abs(lamb-20).min())[0][0]  # number of 20µm"
   ]
  },
  {
   "cell_type": "code",
   "execution_count": 74,
   "metadata": {},
   "outputs": [],
   "source": [
    "def ZODI(zodi, dl, lamb):\n",
    "    field = (np.pi*ac**2)\n",
    "    S = (np.pi*(D/2)**2)\n",
    "    E = h*c/(lamb*10**(-4))*10**(-7)\n",
    "    f = c*10**4/lamb**2\n",
    "    steradian = 4.25E+10\n",
    "    MJy = 1.0E-20\n",
    "    return zodi/dl/field/S/A/t_exp*E/f/MJy*steradian\n",
    "\n",
    "ZODI_9 = ZODI(zodi[l_9], dl[1], lamb[l_9])     # zodiacal light at  9µm [1MJy/steradian]\n",
    "ZODI_10 = ZODI(zodi[l_10], dl[1], lamb[l_10])  # zodiacal light at 10µm [1MJy/steradian]\n",
    "ZODI_14 = ZODI(zodi[l_14], dl[2], lamb[l_14])  # zodiacal light at 14µm [1MJy/steradian]\n",
    "ZODI_20 = ZODI(zodi[l_20], dl[2], lamb[l_20])  # zodiacal light at 20µm [1MJy/steradian]"
   ]
  },
  {
   "cell_type": "code",
   "execution_count": 76,
   "metadata": {},
   "outputs": [
    {
     "name": "stdout",
     "output_type": "stream",
     "text": [
      " 9µm: 5.004793286861143 [1MJy/steradian]\n",
      "10µm: 6.5596660637482245 [1MJy/steradian]\n",
      "14µm: 10.802345667955885 [1MJy/steradian]\n",
      "20µm: 11.937079681780796 [1MJy/steradian]\n"
     ]
    }
   ],
   "source": [
    "print(f' 9µm: {ZODI_9} [1MJy/steradian]')\n",
    "print(f'10µm: {ZODI_10} [1MJy/steradian]')\n",
    "print(f'14µm: {ZODI_14} [1MJy/steradian]')\n",
    "print(f'20µm: {ZODI_20} [1MJy/steradian]')"
   ]
  },
  {
   "cell_type": "code",
   "execution_count": 81,
   "metadata": {},
   "outputs": [
    {
     "data": {
      "text/plain": [
       "(3, 22)"
      ]
     },
     "execution_count": 81,
     "metadata": {},
     "output_type": "execute_result"
    },
    {
     "data": {
      "image/png": "[encoded data removed]",
      "text/plain": [
       "<Figure size 432x288 with 1 Axes>"
      ]
     },
     "metadata": {},
     "output_type": "display_data"
    }
   ],
   "source": [
    "plt.plot(lamb, zodi, 'ro', markersize=2)\n",
    "plt.xlim(3, 22)"
   ]
  },
  {
   "cell_type": "code",
   "execution_count": 72,
   "metadata": {},
   "outputs": [
    {
     "data": {
      "text/plain": [
       "1.9411764705882353"
      ]
     },
     "execution_count": 72,
     "metadata": {},
     "output_type": "execute_result"
    }
   ],
   "source": [
    "dl[2]/dl[1]"
   ]
  },
  {
   "cell_type": "code",
   "execution_count": 29,
   "metadata": {},
   "outputs": [
    {
     "data": {
      "text/plain": [
       "2.6363636363636362"
      ]
     },
     "execution_count": 29,
     "metadata": {},
     "output_type": "execute_result"
    }
   ],
   "source": [
    "8.7/3.3"
   ]
  },
  {
   "cell_type": "code",
   "execution_count": 47,
   "metadata": {},
   "outputs": [
    {
     "data": {
      "text/plain": [
       "0.01"
      ]
     },
     "execution_count": 47,
     "metadata": {},
     "output_type": "execute_result"
    }
   ],
   "source": [
    "1E-2"
   ]
  },
  {
   "cell_type": "code",
   "execution_count": null,
   "metadata": {},
   "outputs": [],
   "source": []
  }
 ],
 "metadata": {
  "kernelspec": {
   "display_name": "Python 3",
   "language": "python",
   "name": "python3"
  },
  "language_info": {
   "codemirror_mode": {
    "name": "ipython",
    "version": 3
   },
   "file_extension": ".py",
   "mimetype": "text/x-python",
   "name": "python",
   "nbconvert_exporter": "python",
   "pygments_lexer": "ipython3",
   "version": "3.6.4"
  },
  "toc": {
   "base_numbering": 1,
   "nav_menu": {},
   "number_sections": true,
   "sideBar": true,
   "skip_h1_title": false,
   "title_cell": "Table of Contents",
   "title_sidebar": "Contents",
   "toc_cell": false,
   "toc_position": {},
   "toc_section_display": true,
   "toc_window_display": false
  }
 },
 "nbformat": 4,
 "nbformat_minor": 2
}
