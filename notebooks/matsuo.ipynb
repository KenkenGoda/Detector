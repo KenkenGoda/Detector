{
 "cells": [
  {
   "cell_type": "code",
   "execution_count": 17,
   "metadata": {},
   "outputs": [],
   "source": [
    "import numpy as np\n",
    "import pandas as pd\n",
    "import matplotlib.pyplot as plt"
   ]
  },
  {
   "cell_type": "code",
   "execution_count": 10,
   "metadata": {},
   "outputs": [],
   "source": [
    "lamb = np.load('/Users/shohei/Desktop/Shohei/Fresnel/Detector/Report/Matsuo/lamb.npy')\n",
    "tra_2500 = np.load('/Users/shohei/Desktop/Shohei/Fresnel/Detector/Report/Matsuo/primary_matsuo_2500.npy')\n",
    "tra_3000 = np.load('/Users/shohei/Desktop/Shohei/Fresnel/Detector/Report/Matsuo/primary_matsuo_3000.npy')"
   ]
  },
  {
   "cell_type": "code",
   "execution_count": 14,
   "metadata": {},
   "outputs": [],
   "source": [
    "for ll in range(len(lamb)):\n",
    "    tra_2500[ll] /= tra_2500[ll, 0]\n",
    "    tra_3000[ll] /= tra_3000[ll, 0]"
   ]
  },
  {
   "cell_type": "code",
   "execution_count": 62,
   "metadata": {},
   "outputs": [],
   "source": [
    "lamb_tar = [3, 5, 8, 10, 14, 20]\n",
    "for tar in lamb_tar:\n",
    "    lamb_res = np.abs(lamb-tar)\n",
    "    l_tar = np.where(lamb_res==lamb_res.min())[0][0]\n",
    "    if tar==target[0]:\n",
    "        tra_tar_2500 = tra_2500[l_tar]\n",
    "        tra_tar_3000 = tra_3000[l_tar]\n",
    "    else:\n",
    "        tra_tar_2500 = np.vstack((tra_tar_2500, tra_2500[l_tar]))\n",
    "        tra_tar_3000 = np.vstack((tra_tar_3000, tra_3000[l_tar]))"
   ]
  },
  {
   "cell_type": "code",
   "execution_count": 63,
   "metadata": {},
   "outputs": [],
   "source": [
    "df_2500 = pd.DataFrame(tra_tar_2500.T, columns=lamb_tar)\n",
    "df_3000 = pd.DataFrame(tra_tar_3000.T, columns=lamb_tar)"
   ]
  },
  {
   "cell_type": "code",
   "execution_count": 67,
   "metadata": {},
   "outputs": [],
   "source": [
    "df_2500.to_csv('/Users/shohei/Desktop/late_M.csv')\n",
    "df_3000.to_csv('/Users/shohei/Desktop/middle_M.csv')"
   ]
  },
  {
   "cell_type": "code",
   "execution_count": null,
   "metadata": {},
   "outputs": [],
   "source": []
  }
 ],
 "metadata": {
  "kernelspec": {
   "display_name": "Python 3",
   "language": "python",
   "name": "python3"
  },
  "language_info": {
   "codemirror_mode": {
    "name": "ipython",
    "version": 3
   },
   "file_extension": ".py",
   "mimetype": "text/x-python",
   "name": "python",
   "nbconvert_exporter": "python",
   "pygments_lexer": "ipython3",
   "version": "3.6.4"
  },
  "toc": {
   "base_numbering": 1,
   "nav_menu": {},
   "number_sections": true,
   "sideBar": true,
   "skip_h1_title": false,
   "title_cell": "Table of Contents",
   "title_sidebar": "Contents",
   "toc_cell": false,
   "toc_position": {},
   "toc_section_display": true,
   "toc_window_display": false
  }
 },
 "nbformat": 4,
 "nbformat_minor": 2
}
